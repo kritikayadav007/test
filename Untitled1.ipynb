{
 "cells": [
  {
   "cell_type": "code",
   "execution_count": 1,
   "id": "f3ef9c25",
   "metadata": {},
   "outputs": [],
   "source": [
    "import cv2\n",
    "import numpy as np"
   ]
  },
  {
   "cell_type": "code",
   "execution_count": 10,
   "id": "daac5675",
   "metadata": {
    "scrolled": true
   },
   "outputs": [
    {
     "name": "stdout",
     "output_type": "stream",
     "text": [
      "(533, 800)\n",
      "(266, 400, 3)\n"
     ]
    }
   ],
   "source": [
    "img = cv2.imread(\"ab.jpg\", -1)\n",
    "cv2.imshow(\"original\",img[:,:,:])\n",
    "cv2.waitKey(0)\n",
    "print(img[:,:,2].shape)\n",
    "scale=50\n",
    "height = int(img.shape[0]*scale/100)\n",
    "width = int(img.shape[1]*scale/100)\n",
    "dim = (width,height)\n",
    "resize = cv2.resize(img,dim,interpolation=cv2.INTER_AREA)\n",
    "print(resize.shape)"
   ]
  },
  {
   "cell_type": "code",
   "execution_count": 3,
   "id": "42bc7953",
   "metadata": {},
   "outputs": [],
   "source": [
    "cv2.imshow(\"resize image\",resize)\n",
    "\n",
    "#cv2.waitKey(0)"
   ]
  },
  {
   "cell_type": "code",
   "execution_count": null,
   "id": "8168041e",
   "metadata": {},
   "outputs": [],
   "source": []
  },
  {
   "cell_type": "code",
   "execution_count": null,
   "id": "a66bdeae",
   "metadata": {},
   "outputs": [],
   "source": []
  }
 ],
 "metadata": {
  "kernelspec": {
   "display_name": "Python 3 (ipykernel)",
   "language": "python",
   "name": "python3"
  },
  "language_info": {
   "codemirror_mode": {
    "name": "ipython",
    "version": 3
   },
   "file_extension": ".py",
   "mimetype": "text/x-python",
   "name": "python",
   "nbconvert_exporter": "python",
   "pygments_lexer": "ipython3",
   "version": "3.11.2"
  }
 },
 "nbformat": 4,
 "nbformat_minor": 5
}
