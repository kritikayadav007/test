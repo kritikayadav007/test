{
 "cells": [
  {
   "cell_type": "code",
   "execution_count": 1,
   "id": "44dbddc2",
   "metadata": {},
   "outputs": [],
   "source": [
    "import matplotlib.pyplot as plt\n",
    "import numpy as np\n",
    "from sklearn import datasets, linear_model, model_selection"
   ]
  },
  {
   "cell_type": "code",
   "execution_count": 2,
   "id": "cfdd2788",
   "metadata": {},
   "outputs": [],
   "source": [
    "X = datasets.load_diabetes(return_X_y=False, as_frame=False)"
   ]
  },
  {
   "cell_type": "code",
   "execution_count": 3,
   "id": "0c609b99",
   "metadata": {},
   "outputs": [
    {
     "name": "stdout",
     "output_type": "stream",
     "text": [
      "[ 0.21947749  0.32948997  0.81560036  0.440956   -0.0606303  -0.29257894\n",
      " -0.2820059  -0.00290545  0.96402263  0.04992249]\n",
      "[49.93137149 64.08484989]\n"
     ]
    }
   ],
   "source": [
    "# decision tree for multioutput regression\n",
    "from sklearn.datasets import make_regression\n",
    "from sklearn.tree import DecisionTreeRegressor\n",
    "# create datasets\n",
    "X, y = make_regression(n_samples=1000, n_features=10, n_informative=5, n_targets=2, random_state=1, noise=0.5)\n",
    "# define model\n",
    "model = DecisionTreeRegressor()\n",
    "print(X[0])\n",
    "# fit model\n",
    "model.fit(X, y)\n",
    "# make a prediction\n",
    "row = [0.21947749, 0.32948997, 0.81560036, 0.440956, -0.0606303, -0.29257894, -0.2820059, -0.00290545, 0.96402263, 0.04992249]\n",
    "yhat = model.predict([row])\n",
    "# summarize prediction\n",
    "print(yhat[0])"
   ]
  },
  {
   "cell_type": "code",
   "execution_count": null,
   "id": "e04986ac",
   "metadata": {},
   "outputs": [],
   "source": []
  },
  {
   "cell_type": "code",
   "execution_count": null,
   "id": "9742863a",
   "metadata": {},
   "outputs": [],
   "source": []
  },
  {
   "cell_type": "code",
   "execution_count": null,
   "id": "dfc58880",
   "metadata": {},
   "outputs": [],
   "source": []
  }
 ],
 "metadata": {
  "kernelspec": {
   "display_name": "Python 3 (ipykernel)",
   "language": "python",
   "name": "python3"
  },
  "language_info": {
   "codemirror_mode": {
    "name": "ipython",
    "version": 3
   },
   "file_extension": ".py",
   "mimetype": "text/x-python",
   "name": "python",
   "nbconvert_exporter": "python",
   "pygments_lexer": "ipython3",
   "version": "3.11.2"
  }
 },
 "nbformat": 4,
 "nbformat_minor": 5
}
